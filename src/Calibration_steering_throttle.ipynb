{
 "cells": [
  {
   "cell_type": "code",
   "execution_count": 524,
   "metadata": {},
   "outputs": [],
   "source": [
    "from adafruit_servokit import ServoKit\n",
    "import time"
   ]
  },
  {
   "cell_type": "code",
   "execution_count": 525,
   "metadata": {},
   "outputs": [],
   "source": [
    "kit = ServoKit(channels=16)"
   ]
  },
  {
   "cell_type": "code",
   "execution_count": 526,
   "metadata": {},
   "outputs": [],
   "source": [
    "kit.servo[0].angle = 90"
   ]
  },
  {
   "cell_type": "markdown",
   "metadata": {},
   "source": [
    "# Nutral position and need min first pulse(PWM) at -0.4 for reverse [LED will stop blinking]"
   ]
  },
  {
   "cell_type": "code",
   "execution_count": 527,
   "metadata": {},
   "outputs": [],
   "source": [
    "\n",
    "kit.continuous_servo[1].throttle = -0.40\n",
    "time.sleep(1)"
   ]
  },
  {
   "cell_type": "code",
   "execution_count": 528,
   "metadata": {},
   "outputs": [
    {
     "name": "stdout",
     "output_type": "stream",
     "text": [
      "-0.30784871899145994\n"
     ]
    }
   ],
   "source": [
    "kit.continuous_servo[1].throttle += 0.1\n",
    "time.sleep(1)\n",
    "print(kit.continuous_servo[1].throttle)"
   ]
  },
  {
   "cell_type": "code",
   "execution_count": 486,
   "metadata": {},
   "outputs": [
    {
     "name": "stdout",
     "output_type": "stream",
     "text": [
      "-0.3143554290361936\n"
     ]
    }
   ],
   "source": [
    "kit.continuous_servo[1].throttle -= 0.1\n",
    "print(kit.continuous_servo[1].throttle)"
   ]
  },
  {
   "cell_type": "code",
   "execution_count": 522,
   "metadata": {},
   "outputs": [
    {
     "name": "stdout",
     "output_type": "stream",
     "text": [
      "-0.4770231801545344\n"
     ]
    }
   ],
   "source": [
    "kit.continuous_servo[1].throttle += 0.01\n",
    "print(kit.continuous_servo[1].throttle)"
   ]
  },
  {
   "cell_type": "code",
   "execution_count": 521,
   "metadata": {},
   "outputs": [
    {
     "name": "stdout",
     "output_type": "stream",
     "text": [
      "-0.48352989019926795\n"
     ]
    }
   ],
   "source": [
    "kit.continuous_servo[1].throttle -= 0.01\n",
    "print(kit.continuous_servo[1].throttle)"
   ]
  },
  {
   "cell_type": "markdown",
   "metadata": {},
   "source": [
    "# reverse[ will start reverse after -0.47, it will set ESC in reverse mode (will see led blinking on ESC or get sound at -0.47)]\n"
   ]
  },
  {
   "cell_type": "code",
   "execution_count": 529,
   "metadata": {},
   "outputs": [],
   "source": [
    "#reverse[ will start reverse after -0.47, it will set ESC in reverse mode (will see led blinking or get sound at -0.47)]\n",
    "kit.continuous_servo[1].throttle = -0.47"
   ]
  },
  {
   "cell_type": "code",
   "execution_count": null,
   "metadata": {},
   "outputs": [],
   "source": []
  }
 ],
 "metadata": {
  "kernelspec": {
   "display_name": "Python 3",
   "language": "python",
   "name": "python3"
  },
  "language_info": {
   "codemirror_mode": {
    "name": "ipython",
    "version": 3
   },
   "file_extension": ".py",
   "mimetype": "text/x-python",
   "name": "python",
   "nbconvert_exporter": "python",
   "pygments_lexer": "ipython3",
   "version": "3.6.9"
  }
 },
 "nbformat": 4,
 "nbformat_minor": 2
}
